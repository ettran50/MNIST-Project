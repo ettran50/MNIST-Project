{
  "nbformat": 4,
  "nbformat_minor": 0,
  "metadata": {
    "colab": {
      "provenance": [],
      "gpuType": "T4",
      "authorship_tag": "ABX9TyO4HXgOTWX3JzP6FkWU5mro"
    },
    "kernelspec": {
      "name": "python3",
      "display_name": "Python 3"
    },
    "language_info": {
      "name": "python"
    },
    "accelerator": "GPU"
  },
  "cells": [
    {
      "cell_type": "code",
      "execution_count": 1,
      "metadata": {
        "id": "1WQF7gwc5RFR"
      },
      "outputs": [],
      "source": [
        "from collections import defaultdict\n",
        "from tqdm import tqdm\n",
        "import itertools\n",
        "from joblib import Parallel, delayed, dump, load\n",
        "\n",
        "import numpy as np\n",
        "import pandas as pd\n",
        "\n",
        "import matplotlib.pyplot as plt\n",
        "import seaborn as sns\n",
        "\n",
        "from sklearn.model_selection import cross_val_score\n",
        "from sklearn.metrics import roc_auc_score"
      ]
    },
    {
      "cell_type": "code",
      "source": [
        "def process_image_arr_sklearn(images):\n",
        "    return images.reshape(len(images), -1)\n",
        "def roc(model, X, y):\n",
        "    y_score = model.predict_proba(X)[:, 1]\n",
        "    return roc_auc_score(y, y_score)"
      ],
      "metadata": {
        "id": "fVOIi5oI5g4W"
      },
      "execution_count": 2,
      "outputs": []
    },
    {
      "cell_type": "code",
      "source": [
        "breast = np.load(\"/content/breastmnist.npz\")\n",
        "\n",
        "breast_trainX = process_image_arr_sklearn(breast[\"train_images\"])\n",
        "breast_trainY = breast[\"train_labels\"].flatten()\n",
        "\n",
        "breast_valX = process_image_arr_sklearn(breast[\"val_images\"])\n",
        "breast_valY = breast[\"val_labels\"].flatten()\n",
        "\n",
        "breast_testX = process_image_arr_sklearn(breast[\"test_images\"])\n",
        "breast_testY = breast[\"test_labels\"].flatten()"
      ],
      "metadata": {
        "id": "wmRqurU05ls6"
      },
      "execution_count": 3,
      "outputs": []
    },
    {
      "cell_type": "markdown",
      "source": [
        "# Models\n",
        "\n",
        "\n",
        "*   Naive Bayes\n",
        "*   Decision Trees\n",
        "*   KNN\n",
        "*   Logistic Regression\n",
        "*   Support Vector Machine\n",
        "\n",
        "\n",
        "\n",
        "\n",
        "\n",
        "\n",
        "\n"
      ],
      "metadata": {
        "id": "Cs_TGn3n5q6K"
      }
    },
    {
      "cell_type": "code",
      "source": [
        "models = defaultdict(lambda: {\"breast\": None})"
      ],
      "metadata": {
        "id": "zO3_8kBs6BXv"
      },
      "execution_count": 4,
      "outputs": []
    },
    {
      "cell_type": "markdown",
      "source": [
        "# Naive Bayes"
      ],
      "metadata": {
        "id": "4LmmpHRP6FCr"
      }
    },
    {
      "cell_type": "markdown",
      "source": [
        "**Model Accuracy**"
      ],
      "metadata": {
        "id": "931IU0VpEyYc"
      }
    },
    {
      "cell_type": "code",
      "source": [
        "from sklearn.naive_bayes import GaussianNB\n",
        "\n",
        "models[\"naive_bayes\"][\"breast\"] = GaussianNB()\n",
        "models[\"naive_bayes\"][\"breast\"].fit(breast_trainX, breast_trainY)\n",
        "print(f'breast train acc: {models[\"naive_bayes\"][\"breast\"].score(breast_trainX, breast_trainY)}')\n",
        "print(f'breast test acc: {models[\"naive_bayes\"][\"breast\"].score(breast_testX, breast_testY)}')\n",
        "print(f'breast val acc: {models[\"naive_bayes\"][\"breast\"].score(breast_valX, breast_valY)}')"
      ],
      "metadata": {
        "colab": {
          "base_uri": "https://localhost:8080/"
        },
        "id": "IewFvecE6HQi",
        "outputId": "38fb72d0-08d9-4b2e-df69-85d9e17d322d"
      },
      "execution_count": 6,
      "outputs": [
        {
          "output_type": "stream",
          "name": "stdout",
          "text": [
            "breast train acc: 0.5970695970695971\n",
            "breast test acc: 0.6025641025641025\n",
            "breast val acc: 0.5641025641025641\n"
          ]
        }
      ]
    },
    {
      "cell_type": "markdown",
      "source": [
        "# Decision Trees"
      ],
      "metadata": {
        "id": "z6fygH0k6Pur"
      }
    },
    {
      "cell_type": "code",
      "source": [
        "from sklearn.tree import DecisionTreeClassifier"
      ],
      "metadata": {
        "id": "Qam44WOG6SNI"
      },
      "execution_count": 7,
      "outputs": []
    },
    {
      "cell_type": "markdown",
      "source": [
        "#### Hyperparameters to Optimize\n",
        "\n",
        "- `criterion` {\"gini\", \"entropy\", \"log_loss\"}\n",
        "- `min_samples_split` - Number of samples that warrant a leaf splitting (indirectly controls `max_depth`)\n",
        "- `min_samples_leaf` - Number of samples required to be a leaf node?"
      ],
      "metadata": {
        "id": "LIQHlnSr6UDz"
      }
    },
    {
      "cell_type": "code",
      "source": [
        "def eval_params(criterion, min_samples_split, min_samples_leaf):\n",
        "    model = DecisionTreeClassifier(criterion=\"log_loss\", min_samples_split=min_samples_split, min_samples_leaf=min_samples_leaf)\n",
        "    return cross_val_score(model, breast_trainX, breast_trainY, scoring=\"roc_auc\", cv=5, n_jobs=-1).mean()\n",
        "\n",
        "params = itertools.product(\n",
        "    (\"gini\", \"entropy\", \"log_loss\"),\n",
        "    range(2, 50),\n",
        "    range(1, 20)\n",
        ")\n",
        "\n",
        "results = Parallel(n_jobs=-1, verbose=10)(delayed(eval_params)(criterion, min_samples_split, min_samples_leaf) for criterion, min_samples_split, min_samples_leaf in params)"
      ],
      "metadata": {
        "colab": {
          "base_uri": "https://localhost:8080/"
        },
        "id": "x8ruI8k86Zkm",
        "outputId": "e49f33af-894f-4a53-bdc6-d827205dafd4"
      },
      "execution_count": 8,
      "outputs": [
        {
          "output_type": "stream",
          "name": "stderr",
          "text": [
            "[Parallel(n_jobs=-1)]: Using backend LokyBackend with 2 concurrent workers.\n",
            "[Parallel(n_jobs=-1)]: Done   1 tasks      | elapsed:    2.4s\n",
            "[Parallel(n_jobs=-1)]: Done   4 tasks      | elapsed:    4.9s\n",
            "[Parallel(n_jobs=-1)]: Done   9 tasks      | elapsed:    9.3s\n",
            "[Parallel(n_jobs=-1)]: Done  14 tasks      | elapsed:   11.9s\n",
            "[Parallel(n_jobs=-1)]: Done  21 tasks      | elapsed:   16.2s\n",
            "[Parallel(n_jobs=-1)]: Done  28 tasks      | elapsed:   22.7s\n",
            "[Parallel(n_jobs=-1)]: Done  37 tasks      | elapsed:   27.5s\n",
            "[Parallel(n_jobs=-1)]: Done  46 tasks      | elapsed:   34.2s\n",
            "[Parallel(n_jobs=-1)]: Done  57 tasks      | elapsed:   41.6s\n",
            "[Parallel(n_jobs=-1)]: Done  68 tasks      | elapsed:   50.4s\n",
            "[Parallel(n_jobs=-1)]: Done  81 tasks      | elapsed:   58.8s\n",
            "[Parallel(n_jobs=-1)]: Done  94 tasks      | elapsed:  1.1min\n",
            "[Parallel(n_jobs=-1)]: Done 109 tasks      | elapsed:  1.4min\n",
            "[Parallel(n_jobs=-1)]: Done 124 tasks      | elapsed:  1.5min\n",
            "[Parallel(n_jobs=-1)]: Done 141 tasks      | elapsed:  1.7min\n",
            "[Parallel(n_jobs=-1)]: Done 158 tasks      | elapsed:  1.9min\n",
            "[Parallel(n_jobs=-1)]: Done 177 tasks      | elapsed:  2.1min\n",
            "[Parallel(n_jobs=-1)]: Done 196 tasks      | elapsed:  2.4min\n",
            "[Parallel(n_jobs=-1)]: Done 217 tasks      | elapsed:  2.6min\n",
            "[Parallel(n_jobs=-1)]: Done 238 tasks      | elapsed:  3.0min\n",
            "[Parallel(n_jobs=-1)]: Done 261 tasks      | elapsed:  3.3min\n",
            "[Parallel(n_jobs=-1)]: Done 284 tasks      | elapsed:  3.5min\n",
            "[Parallel(n_jobs=-1)]: Done 309 tasks      | elapsed:  3.8min\n",
            "[Parallel(n_jobs=-1)]: Done 334 tasks      | elapsed:  4.1min\n",
            "[Parallel(n_jobs=-1)]: Done 361 tasks      | elapsed:  4.4min\n",
            "[Parallel(n_jobs=-1)]: Done 388 tasks      | elapsed:  4.7min\n",
            "[Parallel(n_jobs=-1)]: Done 417 tasks      | elapsed:  5.0min\n",
            "[Parallel(n_jobs=-1)]: Done 446 tasks      | elapsed:  5.4min\n",
            "[Parallel(n_jobs=-1)]: Done 477 tasks      | elapsed:  5.7min\n",
            "[Parallel(n_jobs=-1)]: Done 508 tasks      | elapsed:  6.1min\n",
            "[Parallel(n_jobs=-1)]: Done 541 tasks      | elapsed:  6.4min\n",
            "[Parallel(n_jobs=-1)]: Done 574 tasks      | elapsed:  6.8min\n",
            "[Parallel(n_jobs=-1)]: Done 609 tasks      | elapsed:  7.2min\n",
            "[Parallel(n_jobs=-1)]: Done 644 tasks      | elapsed:  7.5min\n",
            "[Parallel(n_jobs=-1)]: Done 681 tasks      | elapsed:  8.0min\n",
            "[Parallel(n_jobs=-1)]: Done 718 tasks      | elapsed:  8.3min\n",
            "[Parallel(n_jobs=-1)]: Done 757 tasks      | elapsed:  8.8min\n",
            "[Parallel(n_jobs=-1)]: Done 796 tasks      | elapsed:  9.2min\n",
            "[Parallel(n_jobs=-1)]: Done 837 tasks      | elapsed:  9.6min\n",
            "[Parallel(n_jobs=-1)]: Done 878 tasks      | elapsed: 10.0min\n",
            "[Parallel(n_jobs=-1)]: Done 921 tasks      | elapsed: 10.5min\n",
            "[Parallel(n_jobs=-1)]: Done 964 tasks      | elapsed: 11.0min\n",
            "[Parallel(n_jobs=-1)]: Done 1009 tasks      | elapsed: 11.6min\n",
            "[Parallel(n_jobs=-1)]: Done 1054 tasks      | elapsed: 12.1min\n",
            "[Parallel(n_jobs=-1)]: Done 1101 tasks      | elapsed: 12.7min\n",
            "[Parallel(n_jobs=-1)]: Done 1148 tasks      | elapsed: 13.2min\n",
            "[Parallel(n_jobs=-1)]: Done 1197 tasks      | elapsed: 13.8min\n",
            "[Parallel(n_jobs=-1)]: Done 1246 tasks      | elapsed: 14.4min\n",
            "[Parallel(n_jobs=-1)]: Done 1297 tasks      | elapsed: 15.0min\n",
            "[Parallel(n_jobs=-1)]: Done 1348 tasks      | elapsed: 15.6min\n",
            "[Parallel(n_jobs=-1)]: Done 1401 tasks      | elapsed: 16.3min\n",
            "[Parallel(n_jobs=-1)]: Done 1454 tasks      | elapsed: 16.9min\n",
            "[Parallel(n_jobs=-1)]: Done 1509 tasks      | elapsed: 17.5min\n",
            "[Parallel(n_jobs=-1)]: Done 1564 tasks      | elapsed: 18.2min\n",
            "[Parallel(n_jobs=-1)]: Done 1621 tasks      | elapsed: 18.9min\n",
            "[Parallel(n_jobs=-1)]: Done 1678 tasks      | elapsed: 19.5min\n",
            "[Parallel(n_jobs=-1)]: Done 1737 tasks      | elapsed: 20.2min\n",
            "[Parallel(n_jobs=-1)]: Done 1796 tasks      | elapsed: 20.8min\n",
            "[Parallel(n_jobs=-1)]: Done 1857 tasks      | elapsed: 21.5min\n",
            "[Parallel(n_jobs=-1)]: Done 1918 tasks      | elapsed: 22.2min\n",
            "[Parallel(n_jobs=-1)]: Done 1981 tasks      | elapsed: 22.9min\n",
            "[Parallel(n_jobs=-1)]: Done 2044 tasks      | elapsed: 23.6min\n",
            "[Parallel(n_jobs=-1)]: Done 2109 tasks      | elapsed: 24.3min\n",
            "[Parallel(n_jobs=-1)]: Done 2174 tasks      | elapsed: 25.1min\n",
            "[Parallel(n_jobs=-1)]: Done 2241 tasks      | elapsed: 25.8min\n",
            "[Parallel(n_jobs=-1)]: Done 2308 tasks      | elapsed: 26.6min\n",
            "[Parallel(n_jobs=-1)]: Done 2377 tasks      | elapsed: 27.3min\n",
            "[Parallel(n_jobs=-1)]: Done 2446 tasks      | elapsed: 28.1min\n",
            "[Parallel(n_jobs=-1)]: Done 2517 tasks      | elapsed: 28.8min\n",
            "[Parallel(n_jobs=-1)]: Done 2588 tasks      | elapsed: 29.6min\n",
            "[Parallel(n_jobs=-1)]: Done 2661 tasks      | elapsed: 30.4min\n",
            "[Parallel(n_jobs=-1)]: Done 2736 out of 2736 | elapsed: 31.1min finished\n"
          ]
        }
      ]
    },
    {
      "cell_type": "code",
      "source": [
        "params = list(itertools.product(\n",
        "    (\"gini\", \"entropy\", \"log_loss\"),\n",
        "    range(2, 50),\n",
        "    range(1, 20)\n",
        "))\n",
        "\n",
        "best_score_index = results.index(max(results))\n",
        "best_score = results[best_score_index]\n",
        "best_params = params[best_score_index]\n",
        "\n",
        "print(f\"Params: {best_params}\")\n",
        "print(f\"Score: {best_score}\")"
      ],
      "metadata": {
        "colab": {
          "base_uri": "https://localhost:8080/"
        },
        "id": "aO7dnJAk6wBR",
        "outputId": "076952bc-e414-4d9c-f479-a2d885499a18"
      },
      "execution_count": 9,
      "outputs": [
        {
          "output_type": "stream",
          "name": "stdout",
          "text": [
            "Params: ('gini', 2, 11)\n",
            "Score: 0.72265042557835\n"
          ]
        }
      ]
    },
    {
      "cell_type": "markdown",
      "source": [
        "**Model Accuracy**"
      ],
      "metadata": {
        "id": "DPSq9kuyFD4b"
      }
    },
    {
      "cell_type": "code",
      "source": [
        "models[\"decision_tree\"][\"breast\"] = DecisionTreeClassifier(criterion=\"gini\", min_samples_split=3, min_samples_leaf=10)\n",
        "models[\"decision_tree\"][\"breast\"].fit(breast_trainX, breast_trainY)\n",
        "\n",
        "print(f'breast train acc: {roc(models[\"decision_tree\"][\"breast\"], breast_trainX, breast_trainY)}')\n",
        "print(f'breast test acc: {roc(models[\"decision_tree\"][\"breast\"], breast_testX, breast_testY)}')\n",
        "print(f'breast val acc: {roc(models[\"decision_tree\"][\"breast\"], breast_valX, breast_valY)}')"
      ],
      "metadata": {
        "colab": {
          "base_uri": "https://localhost:8080/"
        },
        "id": "TNIQIMT07FIS",
        "outputId": "20b023f7-0680-4a95-cf0b-841c537a4c2c"
      },
      "execution_count": 12,
      "outputs": [
        {
          "output_type": "stream",
          "name": "stdout",
          "text": [
            "breast train acc: 0.9705385913764002\n",
            "breast test acc: 0.7814327485380117\n",
            "breast val acc: 0.7568922305764411\n"
          ]
        }
      ]
    },
    {
      "cell_type": "markdown",
      "source": [
        "# K-Nearest Neighbors"
      ],
      "metadata": {
        "id": "k8GsRF1XCA0j"
      }
    },
    {
      "cell_type": "code",
      "source": [
        "from sklearn.neighbors import KNeighborsClassifier"
      ],
      "metadata": {
        "id": "igjp6D-yCD8B"
      },
      "execution_count": 13,
      "outputs": []
    },
    {
      "cell_type": "markdown",
      "source": [
        "#### Hyperparameters to Optimize\n",
        "\n",
        "- `n_neighbors` - `k` value\n",
        "- `weights` {`uniform`, `distance`} - How to weight neighboring points in selection\n",
        "- `metric` {`braycurtis` , `canberra`, `chebyshev`, `cityblock`, `correlation`, `cosine`, `euclidean`, `jensenshannon`, `mahalanobis`, `minkowski`, `seuclidean`, `sqeuclidean`}"
      ],
      "metadata": {
        "id": "IRBh6AIkCHOT"
      }
    },
    {
      "cell_type": "code",
      "source": [
        "params = itertools.product(\n",
        "    range(1, int(len(breast_trainX)**0.5)),\n",
        "    (\"uniform\", \"distance\"),\n",
        "    ('manhattan', 'hamming', 'canberra',  'cosine', 'dice', 'yule', 'correlation', 'l2', 'minkowski', 'jaccard', 'braycurtis', 'sokalsneath', 'euclidean', 'russellrao', 'nan_euclidean', 'cityblock', 'sokalmichener', 'l1', 'rogerstanimoto', 'chebyshev') # Removed 'kulsinski' and 'matching' as they are not valid metrics\n",
        ")\n",
        "params = list(params)\n",
        "\n",
        "def eval_params(n_neighbors, weights, metric):\n",
        "    model = KNeighborsClassifier(n_neighbors=n_neighbors, weights=weights, metric=metric)\n",
        "    return cross_val_score(model, breast_trainX, breast_trainY, scoring=\"roc_auc\", cv=5, n_jobs=-1).mean()\n",
        "\n",
        "results = Parallel(n_jobs=-1, verbose=10)(delayed(eval_params)(n_neighbors, weights, metric) for n_neighbors, weights, metric in params)"
      ],
      "metadata": {
        "colab": {
          "base_uri": "https://localhost:8080/"
        },
        "id": "cqJNtZyCCH2o",
        "outputId": "8bbfcc3e-1ed4-437e-efd3-15a5f60534b3"
      },
      "execution_count": 24,
      "outputs": [
        {
          "output_type": "stream",
          "name": "stderr",
          "text": [
            "[Parallel(n_jobs=-1)]: Using backend LokyBackend with 2 concurrent workers.\n",
            "[Parallel(n_jobs=-1)]: Done   1 tasks      | elapsed:    2.1s\n",
            "[Parallel(n_jobs=-1)]: Done   4 tasks      | elapsed:    2.8s\n",
            "[Parallel(n_jobs=-1)]: Done   9 tasks      | elapsed:    4.2s\n",
            "[Parallel(n_jobs=-1)]: Done  14 tasks      | elapsed:    5.5s\n",
            "[Parallel(n_jobs=-1)]: Done  21 tasks      | elapsed:    8.1s\n",
            "[Parallel(n_jobs=-1)]: Done  28 tasks      | elapsed:    9.4s\n",
            "[Parallel(n_jobs=-1)]: Done  37 tasks      | elapsed:   12.2s\n",
            "[Parallel(n_jobs=-1)]: Done  46 tasks      | elapsed:   13.6s\n",
            "[Parallel(n_jobs=-1)]: Done  57 tasks      | elapsed:   15.6s\n",
            "[Parallel(n_jobs=-1)]: Done  68 tasks      | elapsed:   17.1s\n",
            "[Parallel(n_jobs=-1)]: Done  81 tasks      | elapsed:   19.5s\n",
            "[Parallel(n_jobs=-1)]: Done  94 tasks      | elapsed:   23.0s\n",
            "[Parallel(n_jobs=-1)]: Done 109 tasks      | elapsed:   26.1s\n",
            "[Parallel(n_jobs=-1)]: Done 124 tasks      | elapsed:   28.5s\n",
            "[Parallel(n_jobs=-1)]: Done 141 tasks      | elapsed:   31.5s\n",
            "[Parallel(n_jobs=-1)]: Done 158 tasks      | elapsed:   34.4s\n",
            "[Parallel(n_jobs=-1)]: Done 177 tasks      | elapsed:   39.5s\n",
            "[Parallel(n_jobs=-1)]: Done 196 tasks      | elapsed:   42.8s\n",
            "[Parallel(n_jobs=-1)]: Done 217 tasks      | elapsed:   46.2s\n",
            "[Parallel(n_jobs=-1)]: Done 238 tasks      | elapsed:   49.8s\n",
            "[Parallel(n_jobs=-1)]: Done 261 tasks      | elapsed:   55.2s\n",
            "[Parallel(n_jobs=-1)]: Done 284 tasks      | elapsed:   59.0s\n",
            "[Parallel(n_jobs=-1)]: Done 309 tasks      | elapsed:  1.1min\n",
            "[Parallel(n_jobs=-1)]: Done 334 tasks      | elapsed:  1.2min\n",
            "[Parallel(n_jobs=-1)]: Done 361 tasks      | elapsed:  1.2min\n",
            "[Parallel(n_jobs=-1)]: Done 388 tasks      | elapsed:  1.3min\n",
            "[Parallel(n_jobs=-1)]: Done 417 tasks      | elapsed:  1.4min\n",
            "[Parallel(n_jobs=-1)]: Done 446 tasks      | elapsed:  1.5min\n",
            "[Parallel(n_jobs=-1)]: Done 477 tasks      | elapsed:  1.6min\n",
            "[Parallel(n_jobs=-1)]: Done 508 tasks      | elapsed:  1.7min\n",
            "[Parallel(n_jobs=-1)]: Done 541 tasks      | elapsed:  1.8min\n",
            "[Parallel(n_jobs=-1)]: Done 574 tasks      | elapsed:  1.9min\n",
            "[Parallel(n_jobs=-1)]: Done 609 tasks      | elapsed:  2.0min\n",
            "[Parallel(n_jobs=-1)]: Done 644 tasks      | elapsed:  2.2min\n",
            "[Parallel(n_jobs=-1)]: Done 681 tasks      | elapsed:  2.3min\n",
            "[Parallel(n_jobs=-1)]: Done 718 tasks      | elapsed:  2.4min\n",
            "[Parallel(n_jobs=-1)]: Done 757 tasks      | elapsed:  2.5min\n",
            "[Parallel(n_jobs=-1)]: Done 796 tasks      | elapsed:  2.7min\n",
            "[Parallel(n_jobs=-1)]: Done 837 tasks      | elapsed:  2.8min\n",
            "[Parallel(n_jobs=-1)]: Done 880 out of 880 | elapsed:  2.9min finished\n"
          ]
        }
      ]
    },
    {
      "cell_type": "code",
      "source": [
        "best_score_index = results.index(max(results))\n",
        "best_score = results[best_score_index]\n",
        "best_params = params[best_score_index]\n",
        "\n",
        "print(f\"Params: {best_params}\")\n",
        "print(f\"Score: {best_score}\")"
      ],
      "metadata": {
        "colab": {
          "base_uri": "https://localhost:8080/"
        },
        "id": "8nkm5l12CtPJ",
        "outputId": "33eda94f-06f8-4786-dcc8-7f6f5311934c"
      },
      "execution_count": 25,
      "outputs": [
        {
          "output_type": "stream",
          "name": "stdout",
          "text": [
            "Params: (20, 'distance', 'correlation')\n",
            "Score: 0.8452934308162374\n"
          ]
        }
      ]
    },
    {
      "cell_type": "markdown",
      "source": [
        "**Model Accuracy**"
      ],
      "metadata": {
        "id": "zYrLrMR4FHTF"
      }
    },
    {
      "cell_type": "code",
      "source": [
        "models[\"knn\"][\"breast\"] = KNeighborsClassifier(n_neighbors=1, weights=\"distance\", metric=\"correlation\")\n",
        "models[\"knn\"][\"breast\"].fit(breast_trainX, breast_trainY)\n",
        "\n",
        "print(f'breast train acc: {roc(models[\"knn\"][\"breast\"], breast_trainX, breast_trainY)}')\n",
        "print(f'breast test acc: {roc(models[\"knn\"][\"breast\"], breast_testX, breast_testY)}')\n",
        "print(f'breast val acc: {roc(models[\"knn\"][\"breast\"], breast_valX, breast_valY)}')\n"
      ],
      "metadata": {
        "colab": {
          "base_uri": "https://localhost:8080/"
        },
        "id": "vPy3Yq8VCxSK",
        "outputId": "8d70a3f4-eff0-4a41-ae54-22b1249480f7"
      },
      "execution_count": 26,
      "outputs": [
        {
          "output_type": "stream",
          "name": "stdout",
          "text": [
            "breast train acc: 1.0\n",
            "breast test acc: 0.8107769423558897\n",
            "breast val acc: 0.8972431077694235\n"
          ]
        }
      ]
    },
    {
      "cell_type": "markdown",
      "source": [
        "# Logistic Regression"
      ],
      "metadata": {
        "id": "wXHwUpH5EqI6"
      }
    },
    {
      "cell_type": "markdown",
      "source": [
        "#### Hyperparameters to Optimize\n",
        "\n",
        "- `penalty` - {`None`, `l2`, `l1`, `elasticnet`}\n",
        "- `C` - Inverse of regularization strength\n",
        "- `class_weight` - {`balanced`, `None`}"
      ],
      "metadata": {
        "id": "iB4u2M2rFNVC"
      }
    },
    {
      "cell_type": "code",
      "source": [
        "from sklearn.linear_model import LogisticRegression\n",
        "\n",
        "params = itertools.product(\n",
        "    (\n",
        "        (None, \"lbfgs\"),\n",
        "        (\"l2\", \"lbfgs\"),\n",
        "        (\"l1\", \"liblinear\")\n",
        "    ),\n",
        "    range(-6, 6),\n",
        "    (\"balanced\", None)\n",
        ")\n",
        "params = list(params)\n",
        "\n",
        "def eval_params(penalty, C, class_weight):\n",
        "    penalty, solver = penalty\n",
        "    model = LogisticRegression(penalty=penalty, solver=solver, C=10**C, class_weight=class_weight)\n",
        "    return cross_val_score(model, breast_trainX, breast_trainY, scoring=\"roc_auc\", cv=5, n_jobs=-1).mean()\n",
        "\n",
        "results = Parallel(n_jobs=-1, verbose=10)(delayed(eval_params)(penalty, C, class_weight) for penalty, C, class_weight in params)"
      ],
      "metadata": {
        "colab": {
          "base_uri": "https://localhost:8080/"
        },
        "id": "3RQmqXvBFT8o",
        "outputId": "83e40d3b-b4bf-4284-c6a9-66208841ec28"
      },
      "execution_count": 28,
      "outputs": [
        {
          "output_type": "stream",
          "name": "stderr",
          "text": [
            "[Parallel(n_jobs=-1)]: Using backend LokyBackend with 2 concurrent workers.\n",
            "[Parallel(n_jobs=-1)]: Done   1 tasks      | elapsed:    2.5s\n",
            "[Parallel(n_jobs=-1)]: Done   4 tasks      | elapsed:    3.6s\n",
            "[Parallel(n_jobs=-1)]: Done   9 tasks      | elapsed:    6.0s\n",
            "[Parallel(n_jobs=-1)]: Done  14 tasks      | elapsed:    7.9s\n",
            "[Parallel(n_jobs=-1)]: Done  21 tasks      | elapsed:    9.4s\n",
            "[Parallel(n_jobs=-1)]: Done  28 tasks      | elapsed:   11.0s\n",
            "[Parallel(n_jobs=-1)]: Done  37 tasks      | elapsed:   13.8s\n",
            "[Parallel(n_jobs=-1)]: Done  46 tasks      | elapsed:   16.1s\n",
            "[Parallel(n_jobs=-1)]: Done  57 tasks      | elapsed:   18.5s\n",
            "[Parallel(n_jobs=-1)]: Done  68 tasks      | elapsed:   45.1s\n",
            "[Parallel(n_jobs=-1)]: Done  72 out of  72 | elapsed:   52.5s finished\n"
          ]
        }
      ]
    },
    {
      "cell_type": "code",
      "source": [
        "best_score_index = results.index(max(results))\n",
        "best_score = results[best_score_index]\n",
        "best_params = params[best_score_index]\n",
        "\n",
        "print(f\"Params: {best_params}\")\n",
        "print(f\"Score: {best_score}\")"
      ],
      "metadata": {
        "colab": {
          "base_uri": "https://localhost:8080/"
        },
        "id": "Ml9iLQe6FnG2",
        "outputId": "706cdc3c-75bc-427c-b726-8230a82efe52"
      },
      "execution_count": 29,
      "outputs": [
        {
          "output_type": "stream",
          "name": "stdout",
          "text": [
            "Params: (('l1', 'liblinear'), 4, None)\n",
            "Score: 0.7923182016586644\n"
          ]
        }
      ]
    },
    {
      "cell_type": "markdown",
      "source": [
        "**Model Accuracy**"
      ],
      "metadata": {
        "id": "zd81XpwAFp4o"
      }
    },
    {
      "cell_type": "code",
      "source": [
        "models[\"logistic\"][\"breast\"] = LogisticRegression(penalty=\"l1\", solver=\"liblinear\", C=10**5, class_weight=None)\n",
        "models[\"logistic\"][\"breast\"].fit(breast_trainX, breast_trainY)\n",
        "\n",
        "print(f'breast train acc: {roc(models[\"logistic\"][\"breast\"], breast_trainX, breast_trainY)}')\n",
        "print(f'breast test acc: {roc(models[\"logistic\"][\"breast\"], breast_testX, breast_testY)}')\n",
        "print(f'breast val acc: {roc(models[\"logistic\"][\"breast\"], breast_valX, breast_valY)}')"
      ],
      "metadata": {
        "colab": {
          "base_uri": "https://localhost:8080/"
        },
        "id": "MDUS1ZShFsBF",
        "outputId": "c8913efd-eb15-449e-d97f-d9e687ce9c19"
      },
      "execution_count": 30,
      "outputs": [
        {
          "output_type": "stream",
          "name": "stdout",
          "text": [
            "breast train acc: 1.0\n",
            "breast test acc: 0.8009607351712613\n",
            "breast val acc: 0.8512949039264829\n"
          ]
        }
      ]
    },
    {
      "cell_type": "markdown",
      "source": [
        "# Support Vector Machines"
      ],
      "metadata": {
        "id": "G57DoHydF0Nn"
      }
    },
    {
      "cell_type": "markdown",
      "source": [
        "#### Hyperparamters to Optimize\n",
        "\n",
        "- `C` - regularization param\n",
        "- `kernel` - {`poly`, `rbf`, `sigmoid`}\n",
        "- `degree` (for `poly`) and `gamma` (for `rbf` and `poly` and `sigmoid`)"
      ],
      "metadata": {
        "id": "Xf38EUczF30s"
      }
    },
    {
      "cell_type": "code",
      "source": [
        "from sklearn.svm import SVC\n",
        "\n",
        "# for poly\n",
        "params = itertools.product(\n",
        "    range(-6, 6),\n",
        "    range(1, 8),\n",
        "    (\"scale\", \"auto\")\n",
        ")\n",
        "params = list(params)\n",
        "\n",
        "def eval_params(C, degree, gamma):\n",
        "    model = SVC(C=10**C, kernel=\"poly\", degree=degree, gamma=gamma, probability=True)\n",
        "    return cross_val_score(model, breast_trainX, breast_trainY, scoring=\"roc_auc\", cv=5, n_jobs=-1).mean()\n",
        "\n",
        "results = Parallel(n_jobs=-1, verbose=10)(delayed(eval_params)(C, kernel, degree) for C, kernel, degree in params)"
      ],
      "metadata": {
        "colab": {
          "base_uri": "https://localhost:8080/"
        },
        "id": "OzwXKUYJF5ud",
        "outputId": "bb960875-b726-4170-e472-624ff81e9c0b"
      },
      "execution_count": 31,
      "outputs": [
        {
          "output_type": "stream",
          "name": "stderr",
          "text": [
            "[Parallel(n_jobs=-1)]: Using backend LokyBackend with 2 concurrent workers.\n",
            "[Parallel(n_jobs=-1)]: Done   1 tasks      | elapsed:    1.6s\n",
            "[Parallel(n_jobs=-1)]: Done   4 tasks      | elapsed:    4.3s\n",
            "[Parallel(n_jobs=-1)]: Done   9 tasks      | elapsed:    8.3s\n",
            "[Parallel(n_jobs=-1)]: Done  14 tasks      | elapsed:   14.5s\n",
            "[Parallel(n_jobs=-1)]: Done  21 tasks      | elapsed:   22.3s\n",
            "[Parallel(n_jobs=-1)]: Done  28 tasks      | elapsed:   31.6s\n",
            "[Parallel(n_jobs=-1)]: Done  37 tasks      | elapsed:   39.8s\n",
            "[Parallel(n_jobs=-1)]: Done  46 tasks      | elapsed:   49.8s\n",
            "[Parallel(n_jobs=-1)]: Done  57 tasks      | elapsed:  1.0min\n",
            "[Parallel(n_jobs=-1)]: Done  68 tasks      | elapsed:  1.2min\n",
            "[Parallel(n_jobs=-1)]: Done  81 tasks      | elapsed:  1.4min\n",
            "[Parallel(n_jobs=-1)]: Done  94 tasks      | elapsed:  1.7min\n",
            "[Parallel(n_jobs=-1)]: Done 109 tasks      | elapsed:  2.0min\n",
            "[Parallel(n_jobs=-1)]: Done 124 tasks      | elapsed:  2.2min\n",
            "[Parallel(n_jobs=-1)]: Done 141 tasks      | elapsed:  2.6min\n",
            "[Parallel(n_jobs=-1)]: Done 158 tasks      | elapsed:  2.9min\n",
            "[Parallel(n_jobs=-1)]: Done 168 out of 168 | elapsed:  3.1min finished\n"
          ]
        }
      ]
    },
    {
      "cell_type": "code",
      "source": [
        "best_score_index = results.index(max(results))\n",
        "best_score = results[best_score_index]\n",
        "best_params = params[best_score_index]\n",
        "\n",
        "print(f\"Params: {best_params}\")\n",
        "print(f\"Score: {best_score}\")"
      ],
      "metadata": {
        "colab": {
          "base_uri": "https://localhost:8080/"
        },
        "id": "HfWfJFqLF7fY",
        "outputId": "0ef23a14-f44f-499d-d91c-15f4881cd22c"
      },
      "execution_count": 32,
      "outputs": [
        {
          "output_type": "stream",
          "name": "stdout",
          "text": [
            "Params: (-5, 2, 'auto')\n",
            "Score: 0.7881460788593045\n"
          ]
        }
      ]
    },
    {
      "cell_type": "code",
      "source": [
        "#Other Kernels\n",
        "\n",
        "# for poly\n",
        "params = itertools.product(\n",
        "    range(-6, 6),\n",
        "    (\"linear\", \"rbf\", \"sigmoid\"),\n",
        "    (\"scale\", \"auto\")\n",
        ")\n",
        "params = list(params)\n",
        "\n",
        "def eval_params(C, kernel, gamma):\n",
        "    model = SVC(C=10**C, kernel=kernel, gamma=gamma, probability=True)\n",
        "    return cross_val_score(model, breast_trainX, breast_trainY, scoring=\"roc_auc\", cv=5, n_jobs=-1).mean()\n",
        "\n",
        "results = Parallel(n_jobs=-1, verbose=10)(delayed(eval_params)(C, kernel, degree) for C, kernel, degree in params)"
      ],
      "metadata": {
        "colab": {
          "base_uri": "https://localhost:8080/"
        },
        "id": "XdYyuc6MGwFr",
        "outputId": "92954512-433f-4afe-bc27-135e6338709e"
      },
      "execution_count": 33,
      "outputs": [
        {
          "output_type": "stream",
          "name": "stderr",
          "text": [
            "[Parallel(n_jobs=-1)]: Using backend LokyBackend with 2 concurrent workers.\n",
            "[Parallel(n_jobs=-1)]: Done   1 tasks      | elapsed:    2.5s\n",
            "[Parallel(n_jobs=-1)]: Done   4 tasks      | elapsed:    5.1s\n",
            "[Parallel(n_jobs=-1)]: Done   9 tasks      | elapsed:   10.3s\n",
            "[Parallel(n_jobs=-1)]: Done  14 tasks      | elapsed:   14.9s\n",
            "[Parallel(n_jobs=-1)]: Done  21 tasks      | elapsed:   25.7s\n",
            "[Parallel(n_jobs=-1)]: Done  28 tasks      | elapsed:   37.7s\n",
            "[Parallel(n_jobs=-1)]: Done  37 tasks      | elapsed:   52.5s\n",
            "[Parallel(n_jobs=-1)]: Done  46 tasks      | elapsed:  1.1min\n",
            "[Parallel(n_jobs=-1)]: Done  57 tasks      | elapsed:  1.3min\n",
            "[Parallel(n_jobs=-1)]: Done  68 tasks      | elapsed:  1.6min\n",
            "[Parallel(n_jobs=-1)]: Done  72 out of  72 | elapsed:  1.6min finished\n"
          ]
        }
      ]
    },
    {
      "cell_type": "code",
      "source": [
        "best_score_index = results.index(max(results))\n",
        "best_score = results[best_score_index]\n",
        "best_params = params[best_score_index]\n",
        "\n",
        "print(f\"Params: {best_params}\")\n",
        "print(f\"Score: {best_score}\")"
      ],
      "metadata": {
        "colab": {
          "base_uri": "https://localhost:8080/"
        },
        "id": "86A6lmG9G1FH",
        "outputId": "8eb17e22-bdc8-47da-9dae-48a2f0a98d2a"
      },
      "execution_count": 34,
      "outputs": [
        {
          "output_type": "stream",
          "name": "stdout",
          "text": [
            "Params: (1, 'rbf', 'scale')\n",
            "Score: 0.818351956932926\n"
          ]
        }
      ]
    },
    {
      "cell_type": "markdown",
      "source": [
        "**Model Accuracy**"
      ],
      "metadata": {
        "id": "vpJFHrmNG2YQ"
      }
    },
    {
      "cell_type": "code",
      "source": [
        "models[\"svc\"][\"breast\"] = SVC(C=10, kernel=\"rbf\", gamma=\"scale\", probability=True)\n",
        "models[\"svc\"][\"breast\"].fit(breast_trainX, breast_trainY)\n",
        "\n",
        "print(f'breast train acc: {roc(models[\"svc\"][\"breast\"], breast_trainX, breast_trainY)}')\n",
        "print(f'breast test acc: {roc(models[\"svc\"][\"breast\"], breast_testX, breast_testY)}')\n",
        "print(f'breast val acc: {roc(models[\"svc\"][\"breast\"], breast_valX, breast_valY)}')"
      ],
      "metadata": {
        "colab": {
          "base_uri": "https://localhost:8080/"
        },
        "id": "9zDSNlALG5xD",
        "outputId": "db4a4558-8d6a-44c2-be30-eb2bace985fd"
      },
      "execution_count": 36,
      "outputs": [
        {
          "output_type": "stream",
          "name": "stdout",
          "text": [
            "breast train acc: 0.9998465551634187\n",
            "breast test acc: 0.8592314118629908\n",
            "breast val acc: 0.9390142021720969\n"
          ]
        }
      ]
    },
    {
      "cell_type": "code",
      "source": [
        "dump(dict(models), \"sklearn_models.joblib\")"
      ],
      "metadata": {
        "colab": {
          "base_uri": "https://localhost:8080/"
        },
        "id": "NGhIzNFVHNXZ",
        "outputId": "5b3fbdee-3517-48d0-8ed1-d1275067dcb9"
      },
      "execution_count": 37,
      "outputs": [
        {
          "output_type": "execute_result",
          "data": {
            "text/plain": [
              "['sklearn_models.joblib']"
            ]
          },
          "metadata": {},
          "execution_count": 37
        }
      ]
    },
    {
      "cell_type": "code",
      "source": [
        "models = load(\"sklearn_models.joblib\")"
      ],
      "metadata": {
        "id": "qGHTjS7fHPou"
      },
      "execution_count": 38,
      "outputs": []
    },
    {
      "cell_type": "markdown",
      "source": [
        "# Analyzing Performance"
      ],
      "metadata": {
        "id": "BRbddgBTHRH1"
      }
    },
    {
      "cell_type": "code",
      "source": [
        "data = []\n",
        "\n",
        "for model in models:\n",
        "    for dataset_type in (\"train\", \"test\", \"val\"):\n",
        "        data.append((\n",
        "            model,\n",
        "            dataset_type,\n",
        "            roc(models[model][\"breast\"], eval(f\"breast_{dataset_type}X\"), eval(f\"breast_{dataset_type}Y\"))\n",
        "        ))\n",
        "\n",
        "data = pd.DataFrame(data, columns=[\"model\", \"type\", \"score\"])\n",
        "\n",
        "plt.figure(figsize=(10, 6))\n",
        "sns.barplot(data=data, x=\"model\", y=\"score\", hue=\"type\") \\\n",
        "    .set_title(\"ROC of Different Models for Breast MNIST\")\n"
      ],
      "metadata": {
        "colab": {
          "base_uri": "https://localhost:8080/",
          "height": 582
        },
        "id": "wsyWqNbwHT_0",
        "outputId": "f774afcf-c80c-4d6d-b4b9-22910883bd68"
      },
      "execution_count": 39,
      "outputs": [
        {
          "output_type": "execute_result",
          "data": {
            "text/plain": [
              "Text(0.5, 1.0, 'ROC of Different Models for Breast MNIST')"
            ]
          },
          "metadata": {},
          "execution_count": 39
        },
        {
          "output_type": "display_data",
          "data": {
            "text/plain": [
              "<Figure size 1000x600 with 1 Axes>"
            ],
            "image/png": "[encoded data removed]"
          },
          "metadata": {}
        }
      ]
    },
    {
      "cell_type": "markdown",
      "source": [
        "# Ensemble Learning"
      ],
      "metadata": {
        "id": "yQv-NOVMH6bB"
      }
    },
    {
      "cell_type": "code",
      "source": [
        "import numpy as np\n",
        "from sklearn.metrics import roc_auc_score\n",
        "from joblib import load"
      ],
      "metadata": {
        "id": "Xt2Yp3s0KAe2"
      },
      "execution_count": 53,
      "outputs": []
    },
    {
      "cell_type": "code",
      "source": [
        "def process_image_arr_sklearn(images):\n",
        "    return images.reshape(len(images), -1)\n",
        "\n",
        "def roc(model, X, y):\n",
        "    y_score = model.predict_proba(X)[:, 1]\n",
        "    return roc_auc_score(y, y_score)"
      ],
      "metadata": {
        "id": "cEefE6_KKB7L"
      },
      "execution_count": 54,
      "outputs": []
    },
    {
      "cell_type": "code",
      "source": [
        "sklearn_models = load(\"/content/sklearn_models.joblib\")"
      ],
      "metadata": {
        "id": "F7F-eUNAH87B"
      },
      "execution_count": 40,
      "outputs": []
    },
    {
      "cell_type": "code",
      "source": [
        "!pip install libauc"
      ],
      "metadata": {
        "id": "o7DlycG4I3Bu"
      },
      "execution_count": null,
      "outputs": []
    },
    {
      "cell_type": "code",
      "source": [
        "import torch\n",
        "from torchvision import transforms\n",
        "\n",
        "data_transform = transforms.Compose([\n",
        "    transforms.ToTensor(),\n",
        "    transforms.Normalize(mean=[.5], std=[.5])\n",
        "])"
      ],
      "metadata": {
        "id": "3MqeQcoHITym"
      },
      "execution_count": 49,
      "outputs": []
    },
    {
      "cell_type": "code",
      "source": [
        "resnet_breast = torch.load(\"/content/resnet_breast.pt\", map_location=torch.device('cpu'))"
      ],
      "metadata": {
        "id": "Pk_5qJmjIUsE"
      },
      "execution_count": 50,
      "outputs": []
    },
    {
      "cell_type": "code",
      "source": [
        "resnet_breast.eval()"
      ],
      "metadata": {
        "colab": {
          "base_uri": "https://localhost:8080/"
        },
        "id": "8sdWSsQkJOR8",
        "outputId": "0b019e13-7ec4-49f0-fd81-ca5d1f568b16"
      },
      "execution_count": 51,
      "outputs": [
        {
          "output_type": "execute_result",
          "data": {
            "text/plain": [
              "ResNet(\n",
              "  (conv1): Conv2d(1, 64, kernel_size=(7, 7), stride=(2, 2), padding=(3, 3), bias=False)\n",
              "  (bn1): BatchNorm2d(64, eps=1e-05, momentum=0.1, affine=True, track_running_stats=True)\n",
              "  (relu): ReLU(inplace=True)\n",
              "  (maxpool): MaxPool2d(kernel_size=3, stride=2, padding=1, dilation=1, ceil_mode=False)\n",
              "  (layer1): Sequential(\n",
              "    (0): BasicBlock(\n",
              "      (conv1): Conv2d(64, 64, kernel_size=(3, 3), stride=(1, 1), padding=(1, 1), bias=False)\n",
              "      (bn1): BatchNorm2d(64, eps=1e-05, momentum=0.1, affine=True, track_running_stats=True)\n",
              "      (relu): ReLU(inplace=True)\n",
              "      (conv2): Conv2d(64, 64, kernel_size=(3, 3), stride=(1, 1), padding=(1, 1), bias=False)\n",
              "      (bn2): BatchNorm2d(64, eps=1e-05, momentum=0.1, affine=True, track_running_stats=True)\n",
              "    )\n",
              "    (1): BasicBlock(\n",
              "      (conv1): Conv2d(64, 64, kernel_size=(3, 3), stride=(1, 1), padding=(1, 1), bias=False)\n",
              "      (bn1): BatchNorm2d(64, eps=1e-05, momentum=0.1, affine=True, track_running_stats=True)\n",
              "      (relu): ReLU(inplace=True)\n",
              "      (conv2): Conv2d(64, 64, kernel_size=(3, 3), stride=(1, 1), padding=(1, 1), bias=False)\n",
              "      (bn2): BatchNorm2d(64, eps=1e-05, momentum=0.1, affine=True, track_running_stats=True)\n",
              "    )\n",
              "  )\n",
              "  (layer2): Sequential(\n",
              "    (0): BasicBlock(\n",
              "      (conv1): Conv2d(64, 128, kernel_size=(3, 3), stride=(2, 2), padding=(1, 1), bias=False)\n",
              "      (bn1): BatchNorm2d(128, eps=1e-05, momentum=0.1, affine=True, track_running_stats=True)\n",
              "      (relu): ReLU(inplace=True)\n",
              "      (conv2): Conv2d(128, 128, kernel_size=(3, 3), stride=(1, 1), padding=(1, 1), bias=False)\n",
              "      (bn2): BatchNorm2d(128, eps=1e-05, momentum=0.1, affine=True, track_running_stats=True)\n",
              "      (downsample): Sequential(\n",
              "        (0): Conv2d(64, 128, kernel_size=(1, 1), stride=(2, 2), bias=False)\n",
              "        (1): BatchNorm2d(128, eps=1e-05, momentum=0.1, affine=True, track_running_stats=True)\n",
              "      )\n",
              "    )\n",
              "    (1): BasicBlock(\n",
              "      (conv1): Conv2d(128, 128, kernel_size=(3, 3), stride=(1, 1), padding=(1, 1), bias=False)\n",
              "      (bn1): BatchNorm2d(128, eps=1e-05, momentum=0.1, affine=True, track_running_stats=True)\n",
              "      (relu): ReLU(inplace=True)\n",
              "      (conv2): Conv2d(128, 128, kernel_size=(3, 3), stride=(1, 1), padding=(1, 1), bias=False)\n",
              "      (bn2): BatchNorm2d(128, eps=1e-05, momentum=0.1, affine=True, track_running_stats=True)\n",
              "    )\n",
              "  )\n",
              "  (layer3): Sequential(\n",
              "    (0): BasicBlock(\n",
              "      (conv1): Conv2d(128, 256, kernel_size=(3, 3), stride=(2, 2), padding=(1, 1), bias=False)\n",
              "      (bn1): BatchNorm2d(256, eps=1e-05, momentum=0.1, affine=True, track_running_stats=True)\n",
              "      (relu): ReLU(inplace=True)\n",
              "      (conv2): Conv2d(256, 256, kernel_size=(3, 3), stride=(1, 1), padding=(1, 1), bias=False)\n",
              "      (bn2): BatchNorm2d(256, eps=1e-05, momentum=0.1, affine=True, track_running_stats=True)\n",
              "      (downsample): Sequential(\n",
              "        (0): Conv2d(128, 256, kernel_size=(1, 1), stride=(2, 2), bias=False)\n",
              "        (1): BatchNorm2d(256, eps=1e-05, momentum=0.1, affine=True, track_running_stats=True)\n",
              "      )\n",
              "    )\n",
              "    (1): BasicBlock(\n",
              "      (conv1): Conv2d(256, 256, kernel_size=(3, 3), stride=(1, 1), padding=(1, 1), bias=False)\n",
              "      (bn1): BatchNorm2d(256, eps=1e-05, momentum=0.1, affine=True, track_running_stats=True)\n",
              "      (relu): ReLU(inplace=True)\n",
              "      (conv2): Conv2d(256, 256, kernel_size=(3, 3), stride=(1, 1), padding=(1, 1), bias=False)\n",
              "      (bn2): BatchNorm2d(256, eps=1e-05, momentum=0.1, affine=True, track_running_stats=True)\n",
              "    )\n",
              "  )\n",
              "  (layer4): Sequential(\n",
              "    (0): BasicBlock(\n",
              "      (conv1): Conv2d(256, 512, kernel_size=(3, 3), stride=(2, 2), padding=(1, 1), bias=False)\n",
              "      (bn1): BatchNorm2d(512, eps=1e-05, momentum=0.1, affine=True, track_running_stats=True)\n",
              "      (relu): ReLU(inplace=True)\n",
              "      (conv2): Conv2d(512, 512, kernel_size=(3, 3), stride=(1, 1), padding=(1, 1), bias=False)\n",
              "      (bn2): BatchNorm2d(512, eps=1e-05, momentum=0.1, affine=True, track_running_stats=True)\n",
              "      (downsample): Sequential(\n",
              "        (0): Conv2d(256, 512, kernel_size=(1, 1), stride=(2, 2), bias=False)\n",
              "        (1): BatchNorm2d(512, eps=1e-05, momentum=0.1, affine=True, track_running_stats=True)\n",
              "      )\n",
              "    )\n",
              "    (1): BasicBlock(\n",
              "      (conv1): Conv2d(512, 512, kernel_size=(3, 3), stride=(1, 1), padding=(1, 1), bias=False)\n",
              "      (bn1): BatchNorm2d(512, eps=1e-05, momentum=0.1, affine=True, track_running_stats=True)\n",
              "      (relu): ReLU(inplace=True)\n",
              "      (conv2): Conv2d(512, 512, kernel_size=(3, 3), stride=(1, 1), padding=(1, 1), bias=False)\n",
              "      (bn2): BatchNorm2d(512, eps=1e-05, momentum=0.1, affine=True, track_running_stats=True)\n",
              "    )\n",
              "  )\n",
              "  (avgpool): AdaptiveAvgPool2d(output_size=(1, 1))\n",
              "  (fc): Linear(in_features=512, out_features=1, bias=True)\n",
              ")"
            ]
          },
          "metadata": {},
          "execution_count": 51
        }
      ]
    },
    {
      "cell_type": "code",
      "source": [
        "# REFORMATING THE DATA\n",
        "\n",
        "breast = np.load(\"/content/breastmnist.npz\")\n",
        "\n",
        "breast_trainX = breast[\"train_images\"]\n",
        "breast_trainY = breast[\"train_labels\"].flatten()\n",
        "\n",
        "breast_valX = breast[\"val_images\"]\n",
        "breast_valY = breast[\"val_labels\"].flatten()\n",
        "\n",
        "breast_testX = breast[\"test_images\"]\n",
        "breast_testY = breast[\"test_labels\"].flatten()\n",
        "\n",
        "breast_trainX_sk = process_image_arr_sklearn(breast[\"train_images\"])\n",
        "breast_trainY_sk = breast[\"train_labels\"].flatten()\n",
        "\n",
        "breast_valX_sk = process_image_arr_sklearn(breast[\"val_images\"])\n",
        "breast_valY_sk = breast[\"val_labels\"].flatten()\n",
        "\n",
        "breast_testX_sk = process_image_arr_sklearn(breast[\"test_images\"])\n",
        "breast_testY_sk = breast[\"test_labels\"].flatten()"
      ],
      "metadata": {
        "id": "LcwiVx0_KVIo"
      },
      "execution_count": 55,
      "outputs": []
    },
    {
      "cell_type": "code",
      "source": [
        "input_tensor = data_transform(breast_trainX[0])\n",
        "input_batch = input_tensor.unsqueeze(0)\n",
        "\n",
        "with torch.no_grad():\n",
        "    output = torch.sigmoid(resnet_breast(input_batch))\n",
        "print(output)"
      ],
      "metadata": {
        "colab": {
          "base_uri": "https://localhost:8080/"
        },
        "id": "oIrB1FdxJSVo",
        "outputId": "4b0ae94f-0664-478f-a6fb-74516db63fc6"
      },
      "execution_count": 56,
      "outputs": [
        {
          "output_type": "stream",
          "name": "stdout",
          "text": [
            "tensor([[0.9863]])\n"
          ]
        }
      ]
    },
    {
      "cell_type": "code",
      "source": [
        "sklearn_models"
      ],
      "metadata": {
        "colab": {
          "base_uri": "https://localhost:8080/"
        },
        "id": "cN5nlznsKp9F",
        "outputId": "135404a4-2b7a-4524-ab36-4a3e921a17f5"
      },
      "execution_count": 57,
      "outputs": [
        {
          "output_type": "execute_result",
          "data": {
            "text/plain": [
              "{'naive_bayes': {'breast': GaussianNB()},\n",
              " 'decision_tree': {'breast': DecisionTreeClassifier(min_samples_leaf=10, min_samples_split=3),\n",
              "  'pneumonia': DecisionTreeClassifier(min_samples_leaf=10, min_samples_split=3)},\n",
              " 'knn': {'breast': KNeighborsClassifier(metric='correlation', n_neighbors=1, weights='distance')},\n",
              " 'logistic': {'breast': LogisticRegression(C=100000, penalty='l1', solver='liblinear')},\n",
              " 'svc': {'breast': SVC(C=10, probability=True)}}"
            ]
          },
          "metadata": {},
          "execution_count": 57
        }
      ]
    },
    {
      "cell_type": "code",
      "source": [
        "probs = []\n",
        "for idx in range(len(breast_testX)):\n",
        "    prob = []\n",
        "    for model in sklearn_models:\n",
        "        prob.append(sklearn_models[model][\"breast\"].predict_proba(np.array([breast_testX_sk[idx]]))[:, 1][0])\n",
        "\n",
        "    input_tensor = data_transform(breast_trainX[0]).unsqueeze(0)\n",
        "\n",
        "    with torch.no_grad():\n",
        "        output = torch.sigmoid(resnet_breast(input_tensor))\n",
        "    prob.append(float(output[0][0]))\n",
        "\n",
        "    probs.append(sum(prob)/len(prob))"
      ],
      "metadata": {
        "id": "tpN5KjbiKts6"
      },
      "execution_count": 58,
      "outputs": []
    },
    {
      "cell_type": "code",
      "source": [
        "roc_auc_score(breast_testY_sk, probs)"
      ],
      "metadata": {
        "colab": {
          "base_uri": "https://localhost:8080/"
        },
        "id": "_TgQ4yqaKx96",
        "outputId": "52169868-0bdd-483a-ae14-36ba5a756da8"
      },
      "execution_count": 59,
      "outputs": [
        {
          "output_type": "execute_result",
          "data": {
            "text/plain": [
              "0.880952380952381"
            ]
          },
          "metadata": {},
          "execution_count": 59
        }
      ]
    }
  ]
}